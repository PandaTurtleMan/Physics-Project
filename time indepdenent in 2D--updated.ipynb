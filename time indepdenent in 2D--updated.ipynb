{
 "cells": [
  {
   "cell_type": "code",
   "execution_count": 1,
   "id": "0d6aa5fd",
   "metadata": {},
   "outputs": [],
   "source": [
    "import numpy as np\n",
    "from scipy.sparse.linalg import eigsh\n",
    "from scipy.sparse.linalg import eigs\n",
    "import matplotlib.pyplot as plt\n",
    "from matplotlib import animation\n",
    "from mpl_toolkits.mplot3d import Axes3D\n",
    "from matplotlib.animation import PillowWriter\n",
    "from scipy import sparse"
   ]
  },
  {
   "cell_type": "code",
   "execution_count": 2,
   "id": "da7c840d",
   "metadata": {},
   "outputs": [],
   "source": [
    "N = 200\n",
    "X, Y = np.meshgrid(np.linspace(0,1,N, dtype=float),\n",
    "                   np.linspace(0,1,N, dtype=float))\n",
    "#creates 200x200 2d grid"
   ]
  },
  {
   "cell_type": "code",
   "execution_count": 3,
   "id": "335dcf26",
   "metadata": {},
   "outputs": [],
   "source": [
    "#create potential, this is for a harmonic oscillator\n",
    "def potential(x,y):\n",
    "    return 0.5*((x-0.5)**2+(y-0.5)**2)\n",
    "V = potential(X,Y)"
   ]
  },
  {
   "cell_type": "code",
   "execution_count": 4,
   "id": "34ca8d50",
   "metadata": {},
   "outputs": [],
   "source": [
    "#Now we create hamiltionian matrix; H = T + U. T = laplacian operator, \n",
    "#i.e that kronecker sum. U is the potential we just defined.\n",
    "diag = np.ones([N])\n",
    "diags = np.array([diag, -2*diag, diag])\n",
    "D = sparse.spdiags(diags, np.array([-1,0,1]), N, N)\n",
    "#this d is basically like our one d laplace operator, but now we need a kronsum to make it 2d\n",
    "T = -1/2 * sparse.kronsum(D,D)\n",
    "#now we create a matrix for the potential and add the two components of the energy\n",
    "U = sparse.diags(V.reshape(N**2), (0))\n",
    "H = T + U"
   ]
  },
  {
   "cell_type": "code",
   "execution_count": 5,
   "id": "db99d2d4",
   "metadata": {},
   "outputs": [
    {
     "data": {
      "text/plain": [
       "<matplotlib.contour.QuadContourSet at 0x7fe996396350>"
      ]
     },
     "execution_count": 5,
     "metadata": {},
     "output_type": "execute_result"
    },
    {
     "data": {
      "image/png": "[encoded data removed]",
      "text/plain": [
       "<Figure size 720x720 with 1 Axes>"
      ]
     },
     "metadata": {
      "needs_background": "light"
     },
     "output_type": "display_data"
    }
   ],
   "source": [
    "#now we are ready to solve the eigenvalue equation\n",
    "\n",
    "eigenvalues, eigenvectors = eigsh(H, k=10, which='SM')\n",
    "def evectors(n):\n",
    "    return eigenvectors.T[n].reshape((N,N))\n",
    "\n",
    "#now that we have them lets plot them\n",
    "plt.figure(figsize=(10,10))\n",
    "plt.contourf(X, Y, evectors(1)**2, 20)\n",
    "#plt.contourf(X, Y, evectors(2)**2, 20)\n",
    "#plt.contourf(X, Y, evectors(3)**2, 20)\n",
    "#plt.contourf(X, Y, evectors(4)**2, 20)"
   ]
  },
  {
   "cell_type": "code",
   "execution_count": 6,
   "id": "dea391b3",
   "metadata": {},
   "outputs": [],
   "source": [
    "#cool animation\n",
    "#eigenplot = plt.get_cmap('cool')\n",
    "#\n",
    "#def init():\n",
    "    # Plot the surface.\n",
    " #   ax.plot_surface(X, Y, evectors(1)**2, cmap=my_cmap,linewidth=0, antialiased=False)\n",
    "  #  ax.set_xlabel('x')\n",
    "   # ax.set_ylabel('y')\n",
    "    #ax.set_zlabel('psi**2')\n",
    "    #return fig,\n",
    "\n",
    "\n",
    "#def animate(i):\n",
    "  #  ax.view_init(elev=10, azim=4*i)\n",
    "   # return fig,\n",
    "\n",
    "#fig = plt.figure()\n",
    "\n",
    "#ani = animation.FuncAnimation(fig, animate, init_func=init,frames=90, interval=50)\n",
    "#ani.save('rotate_azimuth_angle_3d_surf.gif',writer='pillow',fps=20)"
   ]
  }
 ],
 "metadata": {
  "kernelspec": {
   "display_name": "Python 3 (ipykernel)",
   "language": "python",
   "name": "python3"
  },
  "language_info": {
   "codemirror_mode": {
    "name": "ipython",
    "version": 3
   },
   "file_extension": ".py",
   "mimetype": "text/x-python",
   "name": "python",
   "nbconvert_exporter": "python",
   "pygments_lexer": "ipython3",
   "version": "3.10.6"
  }
 },
 "nbformat": 4,
 "nbformat_minor": 5
}
