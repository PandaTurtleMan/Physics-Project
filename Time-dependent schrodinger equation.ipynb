{
 "cells": [
  {
   "cell_type": "code",
   "execution_count": 1,
   "id": "57ea05a6",
   "metadata": {},
   "outputs": [],
   "source": [
    "import numpy as np\n",
    "import matplotlib.pyplot as plt\n",
    "from matplotlib import animation\n",
    "from matplotlib.animation import PillowWriter\n",
    "import numba\n",
    "from numba import jit\n",
    "from scipy.linalg import eigh_tridiagonal\n",
    "from scipy.fft import fft, ifft\n",
    "from scipy.fft import fft2, ifft2\n",
    "#Note: everything is dimensionless, i.e h=1"
   ]
  },
  {
   "cell_type": "code",
   "execution_count": null,
   "id": "10df69db",
   "metadata": {},
   "outputs": [],
   "source": []
  }
 ],
 "metadata": {
  "kernelspec": {
   "display_name": "Python 3 (ipykernel)",
   "language": "python",
   "name": "python3"
  },
  "language_info": {
   "codemirror_mode": {
    "name": "ipython",
    "version": 3
   },
   "file_extension": ".py",
   "mimetype": "text/x-python",
   "name": "python",
   "nbconvert_exporter": "python",
   "pygments_lexer": "ipython3",
   "version": "3.9.12"
  }
 },
 "nbformat": 4,
 "nbformat_minor": 5
}
