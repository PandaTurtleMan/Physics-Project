{
 "cells": [
  {
   "cell_type": "code",
   "execution_count": 1,
   "id": "cddd02e8",
   "metadata": {},
   "outputs": [],
   "source": [
    "import numpy as np\n",
    "from scipy.sparse.linalg import eigsh\n",
    "from scipy.sparse.linalg import eigs\n",
    "import matplotlib.pyplot as plt\n",
    "from matplotlib import animation\n",
    "from mpl_toolkits.mplot3d import Axes3D\n",
    "from matplotlib.animation import PillowWriter\n",
    "from scipy import sparse"
   ]
  },
  {
   "cell_type": "code",
   "execution_count": 2,
   "id": "a97e673c",
   "metadata": {},
   "outputs": [],
   "source": [
    "N = 200\n",
    "X, Y, Z = np.meshgrid(np.linspace(0,1,N, dtype=float),\n",
    "                   np.linspace(0,1,N, dtype=float), np.linspace(0,1,N, dtype=float))\n",
    "#creates 200x200 3d grid"
   ]
  },
  {
   "cell_type": "code",
   "execution_count": 3,
   "id": "f418c2af",
   "metadata": {},
   "outputs": [],
   "source": [
    "#create potential, this is for a harmonic oscillator\n",
    "def potential(x,y,z):\n",
    "    return 0.5*((x-0.5)**2+(y-0.5)**2+(z-0.5)**2)\n",
    "V = potential(X,Y,Z)"
   ]
  },
  {
   "cell_type": "code",
   "execution_count": 4,
   "id": "5ba2be2c",
   "metadata": {},
   "outputs": [],
   "source": [
    "#Now we create hamiltionian matrix; H = T + U. T = laplacian operator, \n",
    "#i.e that 3-fold kronecker sum. U is the potential we just defined.\n",
    "diag = np.ones([N])\n",
    "diags = np.array([diag, -2*diag, diag])\n",
    "D = sparse.spdiags(diags, np.array([-1,0,1]), N, N)\n",
    "#this d is basically like our one d laplace operator, but now we need a kronsum to make it 2d\n",
    "intermediate = sparse.kronsum(D,D)\n",
    "T = -0.5*sparse.kronsum(intermediate,D)\n",
    "#now we create a matrix for the potential and add the two components of the energy\n",
    "U = sparse.diags(V.reshape(N**3), (0))\n",
    "H = T + U"
   ]
  },
  {
   "cell_type": "code",
   "execution_count": null,
   "id": "fbe57b31",
   "metadata": {},
   "outputs": [],
   "source": [
    "#now we find + plot eigenvalues/eigenvectors\n",
    "eigenvalues, eigenvectors = eigsh(H, k=10, which='SM')\n",
    "def evectors(n):\n",
    "    return eigenvectors.T[n].reshape((N,N,N))\n",
    "def evalues(n):\n",
    "    return eigenvalues[n]"
   ]
  }
 ],
 "metadata": {
  "kernelspec": {
   "display_name": "Python 3 (ipykernel)",
   "language": "python",
   "name": "python3"
  },
  "language_info": {
   "codemirror_mode": {
    "name": "ipython",
    "version": 3
   },
   "file_extension": ".py",
   "mimetype": "text/x-python",
   "name": "python",
   "nbconvert_exporter": "python",
   "pygments_lexer": "ipython3",
   "version": "3.9.12"
  }
 },
 "nbformat": 4,
 "nbformat_minor": 5
}
